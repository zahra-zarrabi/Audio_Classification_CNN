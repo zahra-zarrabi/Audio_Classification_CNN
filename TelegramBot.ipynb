{
  "cells": [
    {
      "cell_type": "code",
      "execution_count": null,
      "metadata": {
        "id": "3uhSln_uVrHV"
      },
      "outputs": [],
      "source": [
        "!pip install pytelegrambotapi"
      ]
    },
    {
      "cell_type": "code",
      "execution_count": 2,
      "metadata": {
        "id": "QOIfqKQmS6Ez"
      },
      "outputs": [],
      "source": [
        "import numpy as np\n",
        "import torch\n",
        "import torch.nn as nn\n",
        "import torch.nn.functional as F\n",
        "import telebot\n",
        "import torchaudio\n"
      ]
    },
    {
      "cell_type": "code",
      "execution_count": 3,
      "metadata": {
        "colab": {
          "base_uri": "https://localhost:8080/"
        },
        "id": "uDVpKfrYVyCg",
        "outputId": "752e82ee-b64a-4b36-8e9c-804ab9f39422"
      },
      "outputs": [
        {
          "output_type": "stream",
          "name": "stdout",
          "text": [
            "/content/drive/MyDrive/audio_classification\n"
          ]
        }
      ],
      "source": [
        "cd \"/content/drive/MyDrive/audio_classification\""
      ]
    },
    {
      "cell_type": "code",
      "execution_count": 4,
      "metadata": {
        "colab": {
          "base_uri": "https://localhost:8080/"
        },
        "id": "B21RvVKOTKLL",
        "outputId": "5650437e-7a20-43b6-c805-6ff33d0e7952"
      },
      "outputs": [
        {
          "output_type": "stream",
          "name": "stdout",
          "text": [
            "Using cuda\n"
          ]
        }
      ],
      "source": [
        "device = torch.device(\"cuda\" if torch.cuda.is_available() else \"cpu\")\n",
        "print(f\"Using {device}\")"
      ]
    },
    {
      "cell_type": "markdown",
      "metadata": {
        "id": "38XRPviRvYvT"
      },
      "source": [
        "## Network"
      ]
    },
    {
      "cell_type": "markdown",
      "metadata": {
        "id": "tGRsYn1TU_FC"
      },
      "source": [
        "#Bot"
      ]
    },
    {
      "cell_type": "code",
      "execution_count": 5,
      "metadata": {
        "id": "3Oq852rvr70E"
      },
      "outputs": [],
      "source": [
        "class M5(nn.Module):\n",
        "    def __init__(self, n_input=1, n_output=11, stride=16, n_channel=32):\n",
        "        super().__init__()\n",
        "        self.conv1 = nn.Conv1d(n_input, n_channel, kernel_size=80, stride=stride)\n",
        "        self.bn1 = nn.BatchNorm1d(n_channel)\n",
        "        self.pool1 = nn.MaxPool1d(4)\n",
        "        self.conv2 = nn.Conv1d(n_channel, n_channel, kernel_size=3)\n",
        "        self.bn2 = nn.BatchNorm1d(n_channel)\n",
        "        self.pool2 = nn.MaxPool1d(4)\n",
        "        self.conv3 = nn.Conv1d(n_channel, 2 * n_channel, kernel_size=3)\n",
        "        self.bn3 = nn.BatchNorm1d(2 * n_channel)\n",
        "        self.pool3 = nn.MaxPool1d(4)\n",
        "        self.conv4 = nn.Conv1d(2 * n_channel, 2 * n_channel, kernel_size=3)\n",
        "        self.bn4 = nn.BatchNorm1d(2 * n_channel)\n",
        "        self.pool4 = nn.MaxPool1d(4)\n",
        "        self.fc1 = nn.Linear(2 * n_channel, n_output)\n",
        "\n",
        "    def forward(self, x):\n",
        "        x = self.conv1(x)\n",
        "        x = F.relu(self.bn1(x))\n",
        "        x = self.pool1(x)\n",
        "        x = self.conv2(x)\n",
        "        x = F.relu(self.bn2(x))\n",
        "        x = self.pool2(x)\n",
        "        x = self.conv3(x)\n",
        "        x = F.relu(self.bn3(x))\n",
        "        x = self.pool3(x)\n",
        "        x = self.conv4(x)\n",
        "        x = F.relu(self.bn4(x))\n",
        "        x = self.pool4(x)\n",
        "        x = F.avg_pool1d(x, x.shape[-1])\n",
        "        x = torch.flatten(x, start_dim=1)\n",
        "        x = self.fc1(x)\n",
        "        x = F.softmax(x, dim=1)\n",
        "        return x\n"
      ]
    },
    {
      "cell_type": "code",
      "execution_count": 6,
      "metadata": {
        "id": "41YFVxWLTUV8"
      },
      "outputs": [],
      "source": [
        "model = M5(n_output=11).to(device)\n",
        "model.load_state_dict(torch.load('weights_5.pth'))\n",
        "\n",
        "labels = ['mohammadali', 'morteza', 'zeynab', 'alireza', 'maryam', 'nahid', 'parisa', 'zahra', 'sajjad', 'hosein', 'amir']"
      ]
    },
    {
      "cell_type": "code",
      "execution_count": null,
      "metadata": {
        "id": "sCnZPiF2W7dL"
      },
      "outputs": [],
      "source": [
        "bot = telebot.TeleBot('5842423589:AAHTZWfT5wcGtqPumQJTPWKg05Kji1VWggo')\n",
        "@bot.message_handler(commands=['start'])\n",
        "def my_start(message):\n",
        "  bot.send_message(message.chat.id,f'hello, welcome {message.from_user.first_name} to voice recognition bot.')\n",
        "  bot.send_message(message.chat.id,'send me your voice 🎤 ')\n",
        "\n",
        "@bot.message_handler(content_types=['voice'])\n",
        "def my_voice(message):\n",
        "  file_info = bot.get_file(message.voice.file_id)\n",
        "  downloaded_file = bot.download_file(file_info.file_path)\n",
        "  path = file_info.file_path\n",
        "\n",
        "  with open(path, 'wb') as audio_file:\n",
        "    audio_file.write(downloaded_file)\n",
        "  \n",
        "  # Inference\n",
        "  signal, sample_rate = torchaudio.load(path)\n",
        "\n",
        "  # preprocess\n",
        "  signal = torch.mean(signal, dim=0, keepdim=True)\n",
        "  new_sample_rate = 8000\n",
        "  transform = torchaudio.transforms.Resample(orig_freq=sample_rate, new_freq=new_sample_rate)\n",
        "  signal = transform(signal)\n",
        "  # signal = signal[:, 32000:40000]\n",
        "  signal = signal.unsqueeze(0).to(device)\n",
        "\n",
        "  # process\n",
        "  preds = model(signal)\n",
        "\n",
        "  # postprocess\n",
        "  preds = preds.cpu().detach().numpy()\n",
        "  print(preds)\n",
        "  output = np.argmax(preds)\n",
        "  print(\"Mr/Miss\", labels[output],output)\n",
        "  bot.reply_to(message,\"Mr/Mrs \"+ labels[output])\n",
        "\n",
        "\n",
        "bot.polling()\n",
        "     "
      ]
    },
    {
      "cell_type": "code",
      "execution_count": null,
      "metadata": {
        "id": "wzrXjgl3i8vZ"
      },
      "outputs": [],
      "source": []
    }
  ],
  "metadata": {
    "accelerator": "GPU",
    "colab": {
      "provenance": []
    },
    "gpuClass": "standard",
    "kernelspec": {
      "display_name": "Python 3",
      "name": "python3"
    },
    "language_info": {
      "name": "python"
    }
  },
  "nbformat": 4,
  "nbformat_minor": 0
}